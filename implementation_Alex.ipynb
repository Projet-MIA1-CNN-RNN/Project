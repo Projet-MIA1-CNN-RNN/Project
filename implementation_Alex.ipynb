{
 "cells": [
  {
   "cell_type": "code",
   "execution_count": 2,
   "metadata": {},
   "outputs": [],
   "source": [
    "import numpy as np\n",
    "import matplotlib.pyplot as plt\n",
    "import torch\n",
    "import torch.nn as nn\n",
    "import torch.nn.functional as F\n",
    "from torch.utils.data import DataLoader\n",
    "import torchvision\n",
    "from torchvision import datasets\n",
    "import torchvision.transforms as transforms"
   ]
  },
  {
   "cell_type": "code",
   "execution_count": 3,
   "metadata": {},
   "outputs": [
    {
     "name": "stdout",
     "output_type": "stream",
     "text": [
      "cpu\n"
     ]
    }
   ],
   "source": [
    "device = torch.device('cuda:0' if torch.cuda.is_available() else 'cpu')\n",
    "\n",
    "# Assuming that we are on a CUDA machine, this should print a CUDA device:\n",
    "\n",
    "print(device)"
   ]
  },
  {
   "cell_type": "code",
   "execution_count": 6,
   "metadata": {},
   "outputs": [],
   "source": [
    "class MaskedConv2D(nn.Conv2d):\n",
    "\tdef __init__(self,mask_type, *args, **kwargs):\n",
    "\t\tsuper(MaskedConv2D, self).__init__()\n",
    "\t\tself.mask_type = mask_type\n",
    "\t\tassert mask_type in ['A', 'B'], \"Unknown Mask Type\"\n",
    "\t\tself.register_buffer('mask', self.weight.data.clone())\n",
    "\t\t_, depth, height, width = self.weight.size()\n",
    "\t\tself.mask.fill_(1)\n",
    "\t\tif mask_type =='A':\n",
    "\t\t\tself.mask[:,:,height//2,width//2:] = 0\n",
    "\t\t\tself.mask[:,:,height//2+1:,:] = 0\n",
    "\t\telse:\n",
    "\t\t\tself.mask[:,:,height//2,width//2+1:] = 0\n",
    "\t\t\tself.mask[:,:,height//2+1:,:] = 0\n",
    "\n",
    "\tdef forward(self, x):\n",
    "\t\tself.weight.data*=self.mask\n",
    "\t\treturn super(MaskedConv2D, self).forward(x)"
   ]
  },
  {
   "cell_type": "code",
   "execution_count": 9,
   "metadata": {},
   "outputs": [],
   "source": [
    "class PixelCNN(nn.Module):\n",
    "\tdef __init__(self, nb_layer_block=8, channels=64, device=None):\n",
    "\t\tsuper(PixelCNN, self).__init__()\n",
    "\t\tself.nb_block = nb_layer_block\n",
    "\t\tself.channels = channels\n",
    "\t\tself.layers = {}\n",
    "\t\tself.device = device\n",
    "\t\t#first convolution (cf TABLE 1)\n",
    "\t\tself.ConvA = nn.Sequential(\n",
    "\t\t\tMaskedConv2D('A',3, 2*channels, kernel_size=7, bias=False),\n",
    "\t\t\tnn.ReLU(True)\n",
    "\t\t)\n",
    "\t\t#Residual blocks for PixelCNN (figure 5)\n",
    "\t\tself.multiple_blocks = nn.Sequential(\n",
    "\t\t\tnn.Conv2d(2*channels,channels, kernel_size = 1, bias=False),\n",
    "\t\t\tnn.ReLU(True),\n",
    "\t\t\tMaskedConv2D('B',channels,channels, kernel_size = 3, bias=False),\n",
    "\t\t\tnn.ReLU(True),\n",
    "\t\t\tnn.Conv2d(channels,2*channels, kernel_size = 1, bias=False),\n",
    "\t\t\tnn.ReLU(True)\n",
    "\t\t)\n",
    "\t\tself.end = nn.Sequential(\n",
    "\t\t\tnn.ReLU(True),\n",
    "\t\t\tMaskedConv2D('B',2*channels, 2 * channels, kernel_size = 1, bias=False),\n",
    "\t\t\tnn.ReLU(True),\n",
    "\t\t\tMaskedConv2D('B',2* channels,2 * channels, kernel_size = 1, bias=False),\n",
    "\t\t\tnn.Conv2d( 2 * channels, 256, 1)\n",
    "\t\t)\n",
    "\n",
    "\tdef residual_block(self, x):\n",
    "\t\treturn (x + self.multiple_blocks(x))\n",
    "\t\n",
    "\tdef forward(self,x):\n",
    "\t\tx = self.ConvA(x)\n",
    "\t\tfor i in range(self.nb_block):\n",
    "\t\t\tx = residual_block(x)\n",
    "\t\tx = self.end(x)"
   ]
  },
  {
   "attachments": {},
   "cell_type": "markdown",
   "metadata": {},
   "source": [
    "SAVING FITTED MODEL"
   ]
  },
  {
   "cell_type": "code",
   "execution_count": null,
   "metadata": {},
   "outputs": [],
   "source": [
    "PATH = './model_1_Alex.pth'\n",
    "torch.save(net.state_dict(), PATH)"
   ]
  }
 ],
 "metadata": {
  "kernelspec": {
   "display_name": "base",
   "language": "python",
   "name": "python3"
  },
  "language_info": {
   "codemirror_mode": {
    "name": "ipython",
    "version": 3
   },
   "file_extension": ".py",
   "mimetype": "text/x-python",
   "name": "python",
   "nbconvert_exporter": "python",
   "pygments_lexer": "ipython3",
   "version": "3.9.15"
  },
  "orig_nbformat": 4,
  "vscode": {
   "interpreter": {
    "hash": "d85338e3dae5d02b7454e9e0f6d606f697b27b05f28a1716b7a9613db991b1ab"
   }
  }
 },
 "nbformat": 4,
 "nbformat_minor": 2
}
